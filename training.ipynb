{
 "cells": [
  {
   "cell_type": "markdown",
   "metadata": {},
   "source": [
    "# NLP-Facebook-Sentiment-Analyis-2"
   ]
  },
  {
   "cell_type": "markdown",
   "metadata": {},
   "source": [
    "# Imports"
   ]
  },
  {
   "cell_type": "code",
   "execution_count": 32,
   "metadata": {},
   "outputs": [],
   "source": [
    "import pandas as pd\n",
    "import numpy as np\n",
    "import seaborn as sns\n",
    "import matplotlib.pyplot as plt\n",
    "import re\n",
    "\n",
    "from nltk.tokenize import word_tokenize\n",
    "\n",
    "from transformers import AutoTokenizer\n",
    "\n",
    "\n",
    "from sklearn.feature_extraction.text import ENGLISH_STOP_WORDS\n",
    "from sklearn.preprocessing import LabelEncoder\n",
    "\n",
    "import tensorflow as tf\n",
    "from tensorflow.keras.layers import Dense, Embedding, LSTM, Bidirectional\n",
    "from tensorflow.keras.models import Sequential\n",
    "from tensorflow.keras.utils import to_categorical\n",
    "from tensorflow.keras.callbacks import EarlyStopping"
   ]
  },
  {
   "cell_type": "markdown",
   "metadata": {},
   "source": [
    "# Functions"
   ]
  },
  {
   "cell_type": "code",
   "execution_count": 23,
   "metadata": {},
   "outputs": [],
   "source": [
    "def check_for_nulls_dupes(df):\n",
    "  print(f\"The amount of NaN values: {df.isna().sum()}\")\n",
    "  print(f\"The amount of Duplicated values: {df.duplicated().sum()}\")\n",
    "\n",
    "def check_class_imbalance(target):\n",
    "  \n",
    "  unique, counts = np.unique(target, return_counts=True)\n",
    "  plt.figure(figsize=(10, 7))\n",
    "  plt.pie(counts, labels=unique, autopct=\"%1.1f%%\", startangle=140)\n",
    "  plt.title(\"Target Class Breakdown\")\n",
    "  plt.legend()\n",
    "  plt.show()\n",
    "  \n",
    "  plt.figure(figsize=(10, 7))\n",
    "  sns.countplot(x=target)\n",
    "  plt.title(\"Target Class Breakdown\")\n",
    "  plt.xlabel(\"Target Class\")\n",
    "  plt.ylabel(\"Counts\")\n",
    "  plt.xticks(rotation=45)\n",
    "  plt.show()\n",
    "\n",
    "def remove_stop_words(content):\n",
    "  word_tokens = \" \".join(word_tokenize(content))\n",
    "  filtered_tokens = re.sub(r\"[^a-zA-Z\\s]\", \"\", word_tokens).split(\" \")\n",
    "  filtered_word_tokens = [w.lower().strip() for w in filtered_tokens if w.lower() not in ENGLISH_STOP_WORDS]\n",
    "  return \" \".join(filtered_word_tokens).strip()"
   ]
  },
  {
   "cell_type": "markdown",
   "metadata": {},
   "source": [
    "# EDA Analysis"
   ]
  },
  {
   "cell_type": "code",
   "execution_count": 4,
   "metadata": {},
   "outputs": [
    {
     "data": {
      "text/html": [
       "<div>\n",
       "<style scoped>\n",
       "    .dataframe tbody tr th:only-of-type {\n",
       "        vertical-align: middle;\n",
       "    }\n",
       "\n",
       "    .dataframe tbody tr th {\n",
       "        vertical-align: top;\n",
       "    }\n",
       "\n",
       "    .dataframe thead th {\n",
       "        text-align: right;\n",
       "    }\n",
       "</style>\n",
       "<table border=\"1\" class=\"dataframe\">\n",
       "  <thead>\n",
       "    <tr style=\"text-align: right;\">\n",
       "      <th></th>\n",
       "      <th>reviewId</th>\n",
       "      <th>userName</th>\n",
       "      <th>content</th>\n",
       "      <th>score</th>\n",
       "      <th>thumbsUpCount</th>\n",
       "      <th>reviewCreatedVersion</th>\n",
       "      <th>at</th>\n",
       "      <th>appVersion</th>\n",
       "    </tr>\n",
       "  </thead>\n",
       "  <tbody>\n",
       "    <tr>\n",
       "      <th>0</th>\n",
       "      <td>bdc80475-1569-4ab7-941d-1418df2037a9</td>\n",
       "      <td>Joyce A Shultz</td>\n",
       "      <td>Very good</td>\n",
       "      <td>5</td>\n",
       "      <td>3</td>\n",
       "      <td>462.0.0.47.85</td>\n",
       "      <td>2024-06-05 04:34:12</td>\n",
       "      <td>462.0.0.47.85</td>\n",
       "    </tr>\n",
       "    <tr>\n",
       "      <th>1</th>\n",
       "      <td>c730747d-e911-4f2a-9361-a1512d0a618a</td>\n",
       "      <td>Keran Rigby</td>\n",
       "      <td>KarenRigby</td>\n",
       "      <td>5</td>\n",
       "      <td>2</td>\n",
       "      <td>NaN</td>\n",
       "      <td>2024-06-04 14:36:57</td>\n",
       "      <td>NaN</td>\n",
       "    </tr>\n",
       "    <tr>\n",
       "      <th>2</th>\n",
       "      <td>0c63a71b-c9b4-4219-a123-38f95028e09b</td>\n",
       "      <td>MD Mahbub</td>\n",
       "      <td>D Good</td>\n",
       "      <td>5</td>\n",
       "      <td>0</td>\n",
       "      <td>NaN</td>\n",
       "      <td>2024-06-03 17:21:39</td>\n",
       "      <td>NaN</td>\n",
       "    </tr>\n",
       "    <tr>\n",
       "      <th>3</th>\n",
       "      <td>5c78dff6-df96-4b0d-b7b1-6e3b7d0604b4</td>\n",
       "      <td>Rodolfo Sanotajr</td>\n",
       "      <td>Jayar sanotajr</td>\n",
       "      <td>5</td>\n",
       "      <td>0</td>\n",
       "      <td>NaN</td>\n",
       "      <td>2024-06-03 12:13:41</td>\n",
       "      <td>NaN</td>\n",
       "    </tr>\n",
       "    <tr>\n",
       "      <th>4</th>\n",
       "      <td>29096648-1c2d-4252-b943-a51e99e21ec6</td>\n",
       "      <td>Fidaullah Gilgit</td>\n",
       "      <td>Good</td>\n",
       "      <td>5</td>\n",
       "      <td>1</td>\n",
       "      <td>466.1.0.57.85</td>\n",
       "      <td>2024-06-02 17:11:55</td>\n",
       "      <td>466.1.0.57.85</td>\n",
       "    </tr>\n",
       "    <tr>\n",
       "      <th>...</th>\n",
       "      <td>...</td>\n",
       "      <td>...</td>\n",
       "      <td>...</td>\n",
       "      <td>...</td>\n",
       "      <td>...</td>\n",
       "      <td>...</td>\n",
       "      <td>...</td>\n",
       "      <td>...</td>\n",
       "    </tr>\n",
       "    <tr>\n",
       "      <th>9995</th>\n",
       "      <td>376a1563-7c81-44a6-87fe-f30ef4179536</td>\n",
       "      <td>Stephanie de blaauw</td>\n",
       "      <td>My group doesn't always send notifications and...</td>\n",
       "      <td>1</td>\n",
       "      <td>44</td>\n",
       "      <td>464.0.0.60.90</td>\n",
       "      <td>2024-05-23 21:06:38</td>\n",
       "      <td>464.0.0.60.90</td>\n",
       "    </tr>\n",
       "    <tr>\n",
       "      <th>9996</th>\n",
       "      <td>4e04dc99-85ad-4b4c-9d6b-5eab805e4464</td>\n",
       "      <td>jony Islam</td>\n",
       "      <td>Best app 🥰</td>\n",
       "      <td>5</td>\n",
       "      <td>0</td>\n",
       "      <td>464.0.0.60.90</td>\n",
       "      <td>2024-05-23 21:06:04</td>\n",
       "      <td>464.0.0.60.90</td>\n",
       "    </tr>\n",
       "    <tr>\n",
       "      <th>9997</th>\n",
       "      <td>713ed2dd-2f1e-466a-bd29-a09910e9de86</td>\n",
       "      <td>Debbie Hanson</td>\n",
       "      <td>Amazing snack bar! Great family experience!</td>\n",
       "      <td>5</td>\n",
       "      <td>0</td>\n",
       "      <td>464.0.0.60.90</td>\n",
       "      <td>2024-05-23 21:06:00</td>\n",
       "      <td>464.0.0.60.90</td>\n",
       "    </tr>\n",
       "    <tr>\n",
       "      <th>9998</th>\n",
       "      <td>a8cbaa8b-ca61-4d90-9692-e86beb7c4353</td>\n",
       "      <td>Rene Garza</td>\n",
       "      <td>miss you mom</td>\n",
       "      <td>5</td>\n",
       "      <td>0</td>\n",
       "      <td>464.0.0.60.90</td>\n",
       "      <td>2024-05-23 21:04:37</td>\n",
       "      <td>464.0.0.60.90</td>\n",
       "    </tr>\n",
       "    <tr>\n",
       "      <th>9999</th>\n",
       "      <td>b7793c91-433d-44e6-863c-518097243134</td>\n",
       "      <td>Prim</td>\n",
       "      <td>It is a app that can make u find friends and w...</td>\n",
       "      <td>5</td>\n",
       "      <td>0</td>\n",
       "      <td>465.0.0.60.83</td>\n",
       "      <td>2024-05-23 21:04:35</td>\n",
       "      <td>465.0.0.60.83</td>\n",
       "    </tr>\n",
       "  </tbody>\n",
       "</table>\n",
       "<p>10000 rows × 8 columns</p>\n",
       "</div>"
      ],
      "text/plain": [
       "                                  reviewId             userName  \\\n",
       "0     bdc80475-1569-4ab7-941d-1418df2037a9       Joyce A Shultz   \n",
       "1     c730747d-e911-4f2a-9361-a1512d0a618a          Keran Rigby   \n",
       "2     0c63a71b-c9b4-4219-a123-38f95028e09b            MD Mahbub   \n",
       "3     5c78dff6-df96-4b0d-b7b1-6e3b7d0604b4     Rodolfo Sanotajr   \n",
       "4     29096648-1c2d-4252-b943-a51e99e21ec6     Fidaullah Gilgit   \n",
       "...                                    ...                  ...   \n",
       "9995  376a1563-7c81-44a6-87fe-f30ef4179536  Stephanie de blaauw   \n",
       "9996  4e04dc99-85ad-4b4c-9d6b-5eab805e4464           jony Islam   \n",
       "9997  713ed2dd-2f1e-466a-bd29-a09910e9de86        Debbie Hanson   \n",
       "9998  a8cbaa8b-ca61-4d90-9692-e86beb7c4353           Rene Garza   \n",
       "9999  b7793c91-433d-44e6-863c-518097243134                 Prim   \n",
       "\n",
       "                                                content  score  thumbsUpCount  \\\n",
       "0                                             Very good      5              3   \n",
       "1                                            KarenRigby      5              2   \n",
       "2                                                D Good      5              0   \n",
       "3                                        Jayar sanotajr      5              0   \n",
       "4                                                  Good      5              1   \n",
       "...                                                 ...    ...            ...   \n",
       "9995  My group doesn't always send notifications and...      1             44   \n",
       "9996                                         Best app 🥰      5              0   \n",
       "9997        Amazing snack bar! Great family experience!      5              0   \n",
       "9998                                       miss you mom      5              0   \n",
       "9999  It is a app that can make u find friends and w...      5              0   \n",
       "\n",
       "     reviewCreatedVersion                   at     appVersion  \n",
       "0           462.0.0.47.85  2024-06-05 04:34:12  462.0.0.47.85  \n",
       "1                     NaN  2024-06-04 14:36:57            NaN  \n",
       "2                     NaN  2024-06-03 17:21:39            NaN  \n",
       "3                     NaN  2024-06-03 12:13:41            NaN  \n",
       "4           466.1.0.57.85  2024-06-02 17:11:55  466.1.0.57.85  \n",
       "...                   ...                  ...            ...  \n",
       "9995        464.0.0.60.90  2024-05-23 21:06:38  464.0.0.60.90  \n",
       "9996        464.0.0.60.90  2024-05-23 21:06:04  464.0.0.60.90  \n",
       "9997        464.0.0.60.90  2024-05-23 21:06:00  464.0.0.60.90  \n",
       "9998        464.0.0.60.90  2024-05-23 21:04:37  464.0.0.60.90  \n",
       "9999        465.0.0.60.83  2024-05-23 21:04:35  465.0.0.60.83  \n",
       "\n",
       "[10000 rows x 8 columns]"
      ]
     },
     "execution_count": 4,
     "metadata": {},
     "output_type": "execute_result"
    }
   ],
   "source": [
    "df = pd.read_csv(\"/Users/maukanmir/Downloads/facebook_reviews.csv\", nrows=10000)\n",
    "df"
   ]
  },
  {
   "cell_type": "markdown",
   "metadata": {},
   "source": [
    "# Check For Nulls and Dupes"
   ]
  },
  {
   "cell_type": "code",
   "execution_count": 5,
   "metadata": {},
   "outputs": [
    {
     "name": "stdout",
     "output_type": "stream",
     "text": [
      "The amount of NaN values: reviewId                   0\n",
      "userName                   0\n",
      "content                    0\n",
      "score                      0\n",
      "thumbsUpCount              0\n",
      "reviewCreatedVersion    1781\n",
      "at                         0\n",
      "appVersion              1781\n",
      "dtype: int64\n",
      "The amount of Duplicated values: 0\n"
     ]
    }
   ],
   "source": [
    "check_for_nulls_dupes(df)"
   ]
  },
  {
   "cell_type": "code",
   "execution_count": 6,
   "metadata": {},
   "outputs": [],
   "source": [
    "df.dropna(inplace=True)"
   ]
  },
  {
   "cell_type": "code",
   "execution_count": 7,
   "metadata": {},
   "outputs": [],
   "source": [
    "df.drop_duplicates(inplace=True)"
   ]
  },
  {
   "cell_type": "code",
   "execution_count": 8,
   "metadata": {},
   "outputs": [
    {
     "data": {
      "text/plain": [
       "(8219, 8)"
      ]
     },
     "execution_count": 8,
     "metadata": {},
     "output_type": "execute_result"
    }
   ],
   "source": [
    "df.shape"
   ]
  },
  {
   "cell_type": "markdown",
   "metadata": {},
   "source": [
    "# Check For Class Imbalance"
   ]
  },
  {
   "cell_type": "code",
   "execution_count": 18,
   "metadata": {},
   "outputs": [
    {
     "data": {
      "image/png": "[encoded data removed]",
      "text/plain": [
       "<Figure size 1000x700 with 1 Axes>"
      ]
     },
     "metadata": {},
     "output_type": "display_data"
    },
    {
     "data": {
      "image/png": "[encoded data removed]",
      "text/plain": [
       "<Figure size 1000x700 with 1 Axes>"
      ]
     },
     "metadata": {},
     "output_type": "display_data"
    }
   ],
   "source": [
    "check_class_imbalance(df[\"score\"])"
   ]
  },
  {
   "cell_type": "markdown",
   "metadata": {},
   "source": [
    "# Class Imbalance exists"
   ]
  },
  {
   "cell_type": "code",
   "execution_count": 19,
   "metadata": {},
   "outputs": [
    {
     "data": {
      "text/plain": [
       "reviewId                object\n",
       "userName                object\n",
       "content                 object\n",
       "score                    int64\n",
       "thumbsUpCount            int64\n",
       "reviewCreatedVersion    object\n",
       "at                      object\n",
       "appVersion              object\n",
       "dtype: object"
      ]
     },
     "execution_count": 19,
     "metadata": {},
     "output_type": "execute_result"
    }
   ],
   "source": [
    "df.dtypes"
   ]
  },
  {
   "cell_type": "markdown",
   "metadata": {},
   "source": [
    "# Drop Unused Columns"
   ]
  },
  {
   "cell_type": "code",
   "execution_count": 20,
   "metadata": {},
   "outputs": [],
   "source": [
    "df.drop([\"reviewId\", \"userName\", \"reviewCreatedVersion\", \"appVersion\"],axis=1, inplace=True)"
   ]
  },
  {
   "cell_type": "code",
   "execution_count": 21,
   "metadata": {},
   "outputs": [
    {
     "data": {
      "text/html": [
       "<div>\n",
       "<style scoped>\n",
       "    .dataframe tbody tr th:only-of-type {\n",
       "        vertical-align: middle;\n",
       "    }\n",
       "\n",
       "    .dataframe tbody tr th {\n",
       "        vertical-align: top;\n",
       "    }\n",
       "\n",
       "    .dataframe thead th {\n",
       "        text-align: right;\n",
       "    }\n",
       "</style>\n",
       "<table border=\"1\" class=\"dataframe\">\n",
       "  <thead>\n",
       "    <tr style=\"text-align: right;\">\n",
       "      <th></th>\n",
       "      <th>score</th>\n",
       "      <th>thumbsUpCount</th>\n",
       "    </tr>\n",
       "  </thead>\n",
       "  <tbody>\n",
       "    <tr>\n",
       "      <th>count</th>\n",
       "      <td>8219.000000</td>\n",
       "      <td>8219.000000</td>\n",
       "    </tr>\n",
       "    <tr>\n",
       "      <th>mean</th>\n",
       "      <td>4.011802</td>\n",
       "      <td>1.518311</td>\n",
       "    </tr>\n",
       "    <tr>\n",
       "      <th>std</th>\n",
       "      <td>1.548119</td>\n",
       "      <td>43.797141</td>\n",
       "    </tr>\n",
       "    <tr>\n",
       "      <th>min</th>\n",
       "      <td>1.000000</td>\n",
       "      <td>0.000000</td>\n",
       "    </tr>\n",
       "    <tr>\n",
       "      <th>25%</th>\n",
       "      <td>3.000000</td>\n",
       "      <td>0.000000</td>\n",
       "    </tr>\n",
       "    <tr>\n",
       "      <th>50%</th>\n",
       "      <td>5.000000</td>\n",
       "      <td>0.000000</td>\n",
       "    </tr>\n",
       "    <tr>\n",
       "      <th>75%</th>\n",
       "      <td>5.000000</td>\n",
       "      <td>0.000000</td>\n",
       "    </tr>\n",
       "    <tr>\n",
       "      <th>max</th>\n",
       "      <td>5.000000</td>\n",
       "      <td>2808.000000</td>\n",
       "    </tr>\n",
       "  </tbody>\n",
       "</table>\n",
       "</div>"
      ],
      "text/plain": [
       "             score  thumbsUpCount\n",
       "count  8219.000000    8219.000000\n",
       "mean      4.011802       1.518311\n",
       "std       1.548119      43.797141\n",
       "min       1.000000       0.000000\n",
       "25%       3.000000       0.000000\n",
       "50%       5.000000       0.000000\n",
       "75%       5.000000       0.000000\n",
       "max       5.000000    2808.000000"
      ]
     },
     "execution_count": 21,
     "metadata": {},
     "output_type": "execute_result"
    }
   ],
   "source": [
    "df.describe()"
   ]
  },
  {
   "cell_type": "markdown",
   "metadata": {},
   "source": [
    "# Data Preprocessing"
   ]
  },
  {
   "cell_type": "code",
   "execution_count": 24,
   "metadata": {},
   "outputs": [],
   "source": [
    "df[\"content\"] = df[\"content\"].apply(remove_stop_words)"
   ]
  },
  {
   "cell_type": "code",
   "execution_count": 25,
   "metadata": {},
   "outputs": [],
   "source": [
    "df[\"score\"] = df[\"score\"].apply(lambda x: 0 if x <=3 else 1)"
   ]
  },
  {
   "cell_type": "code",
   "execution_count": 27,
   "metadata": {},
   "outputs": [
    {
     "data": {
      "text/plain": [
       "<AxesSubplot:xlabel='Positive Review', ylabel='Negative Review'>"
      ]
     },
     "execution_count": 27,
     "metadata": {},
     "output_type": "execute_result"
    },
    {
     "data": {
      "image/png": "[encoded data removed]",
      "text/plain": [
       "<Figure size 640x480 with 1 Axes>"
      ]
     },
     "metadata": {},
     "output_type": "display_data"
    }
   ],
   "source": [
    "df[\"score\"].value_counts().plot.bar(xlabel=\"Positive Review\", ylabel=\"Negative Review\")"
   ]
  },
  {
   "cell_type": "markdown",
   "metadata": {},
   "source": [
    "# Check for empty Strings"
   ]
  },
  {
   "cell_type": "code",
   "execution_count": null,
   "metadata": {},
   "outputs": [],
   "source": [
    "df = df[df['content'].str.strip() != '']"
   ]
  },
  {
   "cell_type": "markdown",
   "metadata": {},
   "source": [
    "# Separate Feature Variables"
   ]
  },
  {
   "cell_type": "code",
   "execution_count": 31,
   "metadata": {},
   "outputs": [],
   "source": [
    "X, y = df[\"content\"], df[\"score\"]"
   ]
  },
  {
   "cell_type": "markdown",
   "metadata": {},
   "source": [
    "# Establish Bert Model"
   ]
  },
  {
   "cell_type": "code",
   "execution_count": 33,
   "metadata": {},
   "outputs": [],
   "source": [
    "model = \"distilbert-base-uncased\"\n",
    "tokenizer = AutoTokenizer.from_pretrained(model)"
   ]
  },
  {
   "cell_type": "markdown",
   "metadata": {},
   "source": [
    "# Labels"
   ]
  },
  {
   "cell_type": "code",
   "execution_count": 36,
   "metadata": {},
   "outputs": [],
   "source": [
    "NUM_LABELS = len(np.unique(df[\"score\"]))"
   ]
  },
  {
   "cell_type": "markdown",
   "metadata": {},
   "source": [
    "# Tokenize Content"
   ]
  },
  {
   "cell_type": "code",
   "execution_count": 41,
   "metadata": {},
   "outputs": [],
   "source": [
    "seq = X.tolist()\n",
    "model_inputs = tokenizer(seq, padding=True, return_tensors=\"tf\")"
   ]
  },
  {
   "cell_type": "code",
   "execution_count": 42,
   "metadata": {},
   "outputs": [
    {
     "data": {
      "text/plain": [
       "30523"
      ]
     },
     "execution_count": 42,
     "metadata": {},
     "output_type": "execute_result"
    }
   ],
   "source": [
    "vocab_size = len(tokenizer.get_vocab()) +1\n",
    "vocab_size"
   ]
  },
  {
   "cell_type": "markdown",
   "metadata": {},
   "source": [
    "# Create LSTM Model"
   ]
  },
  {
   "cell_type": "code",
   "execution_count": 44,
   "metadata": {},
   "outputs": [
    {
     "name": "stdout",
     "output_type": "stream",
     "text": [
      "Model: \"sequential_1\"\n",
      "_________________________________________________________________\n",
      " Layer (type)                Output Shape              Param #   \n",
      "=================================================================\n",
      " embedding_1 (Embedding)     (None, None, 32)          976736    \n",
      "                                                                 \n",
      " bidirectional_1 (Bidirectio  (None, 64)               16640     \n",
      " nal)                                                            \n",
      "                                                                 \n",
      " dense_5 (Dense)             (None, 128)               8320      \n",
      "                                                                 \n",
      " dense_6 (Dense)             (None, 256)               33024     \n",
      "                                                                 \n",
      " dense_7 (Dense)             (None, 128)               32896     \n",
      "                                                                 \n",
      " dense_8 (Dense)             (None, 2)                 258       \n",
      "                                                                 \n",
      "=================================================================\n",
      "Total params: 1,067,874\n",
      "Trainable params: 1,067,874\n",
      "Non-trainable params: 0\n",
      "_________________________________________________________________\n"
     ]
    }
   ],
   "source": [
    "model = Sequential()\n",
    "model.add(Embedding(input_dim=vocab_size, output_dim=32))\n",
    "model.add(Bidirectional(LSTM(32, activation=\"tanh\")))\n",
    "model.add(Dense(128, activation=\"relu\"))\n",
    "model.add(Dense(256, activation=\"relu\"))\n",
    "model.add(Dense(128, activation=\"relu\"))\n",
    "model.add(Dense(NUM_LABELS, activation=\"sigmoid\"))\n",
    "model.compile(loss=\"binary_crossentropy\", optimizer=\"adam\", metrics=[\"accuracy\"])\n",
    "model.summary()"
   ]
  },
  {
   "cell_type": "code",
   "execution_count": 45,
   "metadata": {},
   "outputs": [],
   "source": [
    "dataset = tf.data.Dataset.from_tensor_slices((model_inputs[\"input_ids\"], y))"
   ]
  },
  {
   "cell_type": "code",
   "execution_count": 46,
   "metadata": {},
   "outputs": [],
   "source": [
    "dataset = dataset.cache()\n",
    "dataset = dataset.shuffle(160000)\n",
    "dataset = dataset.batch(16)\n",
    "dataset = dataset.prefetch(8)"
   ]
  },
  {
   "cell_type": "code",
   "execution_count": 47,
   "metadata": {},
   "outputs": [],
   "source": [
    "len_df = len(dataset)\n",
    "\n",
    "train = dataset.take(int(len_df *.7))\n",
    "test = dataset.skip(int(len_df *.7)).take(int(len_df *.2))\n",
    "val =  dataset.skip(int(len_df *.9)).take(int(len_df *.1))"
   ]
  },
  {
   "cell_type": "markdown",
   "metadata": {},
   "source": [
    "# Early Stopping Metric"
   ]
  },
  {
   "cell_type": "code",
   "execution_count": null,
   "metadata": {},
   "outputs": [],
   "source": []
  }
 ],
 "metadata": {
  "kernelspec": {
   "display_name": "machine-learning-env",
   "language": "python",
   "name": "python3"
  },
  "language_info": {
   "codemirror_mode": {
    "name": "ipython",
    "version": 3
   },
   "file_extension": ".py",
   "mimetype": "text/x-python",
   "name": "python",
   "nbconvert_exporter": "python",
   "pygments_lexer": "ipython3",
   "version": "3.9.19"
  }
 },
 "nbformat": 4,
 "nbformat_minor": 2
}
